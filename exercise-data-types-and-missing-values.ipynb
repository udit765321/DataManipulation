{
 "cells": [
  {
   "cell_type": "markdown",
   "id": "18109420",
   "metadata": {
    "papermill": {
     "duration": 0.005436,
     "end_time": "2022-06-14T09:15:18.920653",
     "exception": false,
     "start_time": "2022-06-14T09:15:18.915217",
     "status": "completed"
    },
    "tags": []
   },
   "source": [
    "**This notebook is an exercise in the [Pandas](https://www.kaggle.com/learn/pandas) course.  You can reference the tutorial at [this link](https://www.kaggle.com/residentmario/data-types-and-missing-values).**\n",
    "\n",
    "---\n"
   ]
  },
  {
   "cell_type": "markdown",
   "id": "91987765",
   "metadata": {
    "papermill": {
     "duration": 0.004342,
     "end_time": "2022-06-14T09:15:18.931765",
     "exception": false,
     "start_time": "2022-06-14T09:15:18.927423",
     "status": "completed"
    },
    "tags": []
   },
   "source": [
    "# Introduction\n",
    "\n",
    "Run the following cell to load your data and some utility functions."
   ]
  },
  {
   "cell_type": "code",
   "execution_count": 1,
   "id": "e51552dc",
   "metadata": {
    "execution": {
     "iopub.execute_input": "2022-06-14T09:15:18.942931Z",
     "iopub.status.busy": "2022-06-14T09:15:18.942144Z",
     "iopub.status.idle": "2022-06-14T09:15:21.712935Z",
     "shell.execute_reply": "2022-06-14T09:15:21.712009Z"
    },
    "papermill": {
     "duration": 2.780154,
     "end_time": "2022-06-14T09:15:21.716279",
     "exception": false,
     "start_time": "2022-06-14T09:15:18.936125",
     "status": "completed"
    },
    "tags": []
   },
   "outputs": [
    {
     "name": "stdout",
     "output_type": "stream",
     "text": [
      "Setup complete.\n"
     ]
    }
   ],
   "source": [
    "import pandas as pd\n",
    "\n",
    "reviews = pd.read_csv(\"../input/wine-reviews/winemag-data-130k-v2.csv\", index_col=0)\n",
    "\n",
    "from learntools.core import binder; binder.bind(globals())\n",
    "from learntools.pandas.data_types_and_missing_data import *\n",
    "print(\"Setup complete.\")"
   ]
  },
  {
   "cell_type": "markdown",
   "id": "7e07e802",
   "metadata": {
    "papermill": {
     "duration": 0.004369,
     "end_time": "2022-06-14T09:15:21.726153",
     "exception": false,
     "start_time": "2022-06-14T09:15:21.721784",
     "status": "completed"
    },
    "tags": []
   },
   "source": [
    "# Exercises"
   ]
  },
  {
   "cell_type": "markdown",
   "id": "da166708",
   "metadata": {
    "papermill": {
     "duration": 0.004397,
     "end_time": "2022-06-14T09:15:21.735074",
     "exception": false,
     "start_time": "2022-06-14T09:15:21.730677",
     "status": "completed"
    },
    "tags": []
   },
   "source": [
    "## 1. \n",
    "What is the data type of the `points` column in the dataset?"
   ]
  },
  {
   "cell_type": "code",
   "execution_count": 2,
   "id": "adffaef6",
   "metadata": {
    "execution": {
     "iopub.execute_input": "2022-06-14T09:15:21.745818Z",
     "iopub.status.busy": "2022-06-14T09:15:21.745418Z",
     "iopub.status.idle": "2022-06-14T09:15:21.757742Z",
     "shell.execute_reply": "2022-06-14T09:15:21.756834Z"
    },
    "papermill": {
     "duration": 0.02017,
     "end_time": "2022-06-14T09:15:21.759716",
     "exception": false,
     "start_time": "2022-06-14T09:15:21.739546",
     "status": "completed"
    },
    "tags": []
   },
   "outputs": [
    {
     "data": {
      "application/javascript": [
       "parent.postMessage({\"jupyterEvent\": \"custom.exercise_interaction\", \"data\": {\"outcomeType\": 1, \"valueTowardsCompletion\": 0.25, \"interactionType\": 1, \"questionType\": 1, \"questionId\": \"1_PointsDtype\", \"learnToolsVersion\": \"0.3.4\", \"failureMessage\": \"\", \"exceptionClass\": \"\", \"trace\": \"\"}}, \"*\")"
      ],
      "text/plain": [
       "<IPython.core.display.Javascript object>"
      ]
     },
     "metadata": {},
     "output_type": "display_data"
    },
    {
     "data": {
      "text/markdown": [
       "<span style=\"color:#33cc33\">Correct</span>"
      ],
      "text/plain": [
       "Correct"
      ]
     },
     "metadata": {},
     "output_type": "display_data"
    }
   ],
   "source": [
    "# Your code here\n",
    "dtype =reviews.points.dtype\n",
    "\n",
    "# Check your answer\n",
    "q1.check()"
   ]
  },
  {
   "cell_type": "code",
   "execution_count": 3,
   "id": "74253ddf",
   "metadata": {
    "execution": {
     "iopub.execute_input": "2022-06-14T09:15:21.770683Z",
     "iopub.status.busy": "2022-06-14T09:15:21.770368Z",
     "iopub.status.idle": "2022-06-14T09:15:21.773401Z",
     "shell.execute_reply": "2022-06-14T09:15:21.772802Z"
    },
    "papermill": {
     "duration": 0.010557,
     "end_time": "2022-06-14T09:15:21.775029",
     "exception": false,
     "start_time": "2022-06-14T09:15:21.764472",
     "status": "completed"
    },
    "tags": []
   },
   "outputs": [],
   "source": [
    "#q1.hint()\n",
    "#q1.solution()"
   ]
  },
  {
   "cell_type": "markdown",
   "id": "2ce87445",
   "metadata": {
    "papermill": {
     "duration": 0.004639,
     "end_time": "2022-06-14T09:15:21.784528",
     "exception": false,
     "start_time": "2022-06-14T09:15:21.779889",
     "status": "completed"
    },
    "tags": []
   },
   "source": [
    "## 2. \n",
    "Create a Series from entries in the `points` column, but convert the entries to strings. Hint: strings are `str` in native Python."
   ]
  },
  {
   "cell_type": "code",
   "execution_count": 4,
   "id": "c4951aeb",
   "metadata": {
    "execution": {
     "iopub.execute_input": "2022-06-14T09:15:21.796322Z",
     "iopub.status.busy": "2022-06-14T09:15:21.795350Z",
     "iopub.status.idle": "2022-06-14T09:15:21.933172Z",
     "shell.execute_reply": "2022-06-14T09:15:21.932440Z"
    },
    "papermill": {
     "duration": 0.145639,
     "end_time": "2022-06-14T09:15:21.935040",
     "exception": false,
     "start_time": "2022-06-14T09:15:21.789401",
     "status": "completed"
    },
    "tags": []
   },
   "outputs": [
    {
     "data": {
      "application/javascript": [
       "parent.postMessage({\"jupyterEvent\": \"custom.exercise_interaction\", \"data\": {\"outcomeType\": 1, \"valueTowardsCompletion\": 0.25, \"interactionType\": 1, \"questionType\": 1, \"questionId\": \"2_StrPoints\", \"learnToolsVersion\": \"0.3.4\", \"failureMessage\": \"\", \"exceptionClass\": \"\", \"trace\": \"\"}}, \"*\")"
      ],
      "text/plain": [
       "<IPython.core.display.Javascript object>"
      ]
     },
     "metadata": {},
     "output_type": "display_data"
    },
    {
     "data": {
      "text/markdown": [
       "<span style=\"color:#33cc33\">Correct</span>"
      ],
      "text/plain": [
       "Correct"
      ]
     },
     "metadata": {},
     "output_type": "display_data"
    }
   ],
   "source": [
    "point_strings = reviews.points.astype('str')\n",
    "\n",
    "# Check your answer\n",
    "q2.check()"
   ]
  },
  {
   "cell_type": "code",
   "execution_count": 5,
   "id": "708982e9",
   "metadata": {
    "execution": {
     "iopub.execute_input": "2022-06-14T09:15:21.947213Z",
     "iopub.status.busy": "2022-06-14T09:15:21.946542Z",
     "iopub.status.idle": "2022-06-14T09:15:21.950616Z",
     "shell.execute_reply": "2022-06-14T09:15:21.949801Z"
    },
    "papermill": {
     "duration": 0.012349,
     "end_time": "2022-06-14T09:15:21.952594",
     "exception": false,
     "start_time": "2022-06-14T09:15:21.940245",
     "status": "completed"
    },
    "tags": []
   },
   "outputs": [],
   "source": [
    "#q2.hint()\n",
    "#q2.solution()"
   ]
  },
  {
   "cell_type": "markdown",
   "id": "9e87a4b3",
   "metadata": {
    "papermill": {
     "duration": 0.00496,
     "end_time": "2022-06-14T09:15:21.962786",
     "exception": false,
     "start_time": "2022-06-14T09:15:21.957826",
     "status": "completed"
    },
    "tags": []
   },
   "source": [
    "## 3.\n",
    "Sometimes the price column is null. How many reviews in the dataset are missing a price?"
   ]
  },
  {
   "cell_type": "code",
   "execution_count": 6,
   "id": "c183fe7f",
   "metadata": {
    "execution": {
     "iopub.execute_input": "2022-06-14T09:15:21.974794Z",
     "iopub.status.busy": "2022-06-14T09:15:21.974150Z",
     "iopub.status.idle": "2022-06-14T09:15:21.988225Z",
     "shell.execute_reply": "2022-06-14T09:15:21.987417Z"
    },
    "papermill": {
     "duration": 0.022331,
     "end_time": "2022-06-14T09:15:21.990196",
     "exception": false,
     "start_time": "2022-06-14T09:15:21.967865",
     "status": "completed"
    },
    "tags": []
   },
   "outputs": [
    {
     "data": {
      "application/javascript": [
       "parent.postMessage({\"jupyterEvent\": \"custom.exercise_interaction\", \"data\": {\"outcomeType\": 1, \"valueTowardsCompletion\": 0.25, \"interactionType\": 1, \"questionType\": 1, \"questionId\": \"3_CountMissingPrices\", \"learnToolsVersion\": \"0.3.4\", \"failureMessage\": \"\", \"exceptionClass\": \"\", \"trace\": \"\"}}, \"*\")"
      ],
      "text/plain": [
       "<IPython.core.display.Javascript object>"
      ]
     },
     "metadata": {},
     "output_type": "display_data"
    },
    {
     "data": {
      "text/markdown": [
       "<span style=\"color:#33cc33\">Correct</span>"
      ],
      "text/plain": [
       "Correct"
      ]
     },
     "metadata": {},
     "output_type": "display_data"
    }
   ],
   "source": [
    "n_missing_prices = reviews[pd.isnull(reviews.price)].shape[0]\n",
    "# Check your answer\n",
    "q3.check()"
   ]
  },
  {
   "cell_type": "code",
   "execution_count": 7,
   "id": "78c17b80",
   "metadata": {
    "execution": {
     "iopub.execute_input": "2022-06-14T09:15:22.003326Z",
     "iopub.status.busy": "2022-06-14T09:15:22.002771Z",
     "iopub.status.idle": "2022-06-14T09:15:22.006579Z",
     "shell.execute_reply": "2022-06-14T09:15:22.005800Z"
    },
    "papermill": {
     "duration": 0.012685,
     "end_time": "2022-06-14T09:15:22.008492",
     "exception": false,
     "start_time": "2022-06-14T09:15:21.995807",
     "status": "completed"
    },
    "tags": []
   },
   "outputs": [],
   "source": [
    "#q3.hint()\n",
    "#q3.solution()"
   ]
  },
  {
   "cell_type": "markdown",
   "id": "eb996faf",
   "metadata": {
    "papermill": {
     "duration": 0.005269,
     "end_time": "2022-06-14T09:15:22.019355",
     "exception": false,
     "start_time": "2022-06-14T09:15:22.014086",
     "status": "completed"
    },
    "tags": []
   },
   "source": [
    "## 4.\n",
    "What are the most common wine-producing regions? Create a Series counting the number of times each value occurs in the `region_1` field. This field is often missing data, so replace missing values with `Unknown`. Sort in descending order.  Your output should look something like this:\n",
    "\n",
    "```\n",
    "Unknown                    21247\n",
    "Napa Valley                 4480\n",
    "                           ...  \n",
    "Bardolino Superiore            1\n",
    "Primitivo del Tarantino        1\n",
    "Name: region_1, Length: 1230, dtype: int64\n",
    "```"
   ]
  },
  {
   "cell_type": "code",
   "execution_count": 8,
   "id": "9f61bf67",
   "metadata": {
    "execution": {
     "iopub.execute_input": "2022-06-14T09:15:22.032331Z",
     "iopub.status.busy": "2022-06-14T09:15:22.031285Z",
     "iopub.status.idle": "2022-06-14T09:15:22.105652Z",
     "shell.execute_reply": "2022-06-14T09:15:22.104767Z"
    },
    "papermill": {
     "duration": 0.082853,
     "end_time": "2022-06-14T09:15:22.107729",
     "exception": false,
     "start_time": "2022-06-14T09:15:22.024876",
     "status": "completed"
    },
    "tags": []
   },
   "outputs": [
    {
     "data": {
      "application/javascript": [
       "parent.postMessage({\"jupyterEvent\": \"custom.exercise_interaction\", \"data\": {\"outcomeType\": 1, \"valueTowardsCompletion\": 0.25, \"interactionType\": 1, \"questionType\": 2, \"questionId\": \"4_ReviewsPerRegion\", \"learnToolsVersion\": \"0.3.4\", \"failureMessage\": \"\", \"exceptionClass\": \"\", \"trace\": \"\"}}, \"*\")"
      ],
      "text/plain": [
       "<IPython.core.display.Javascript object>"
      ]
     },
     "metadata": {},
     "output_type": "display_data"
    },
    {
     "data": {
      "text/markdown": [
       "<span style=\"color:#33cc33\">Correct</span>"
      ],
      "text/plain": [
       "Correct"
      ]
     },
     "metadata": {},
     "output_type": "display_data"
    }
   ],
   "source": [
    "reviews_per_region = reviews.region_1.fillna('Unknown').value_counts().sort_values(ascending=False)\n",
    "\n",
    "# Check your answer\n",
    "q4.check()"
   ]
  },
  {
   "cell_type": "code",
   "execution_count": 9,
   "id": "ef1df13c",
   "metadata": {
    "execution": {
     "iopub.execute_input": "2022-06-14T09:15:22.120901Z",
     "iopub.status.busy": "2022-06-14T09:15:22.120517Z",
     "iopub.status.idle": "2022-06-14T09:15:22.127538Z",
     "shell.execute_reply": "2022-06-14T09:15:22.126691Z"
    },
    "papermill": {
     "duration": 0.016848,
     "end_time": "2022-06-14T09:15:22.130538",
     "exception": false,
     "start_time": "2022-06-14T09:15:22.113690",
     "status": "completed"
    },
    "tags": []
   },
   "outputs": [
    {
     "data": {
      "application/javascript": [
       "parent.postMessage({\"jupyterEvent\": \"custom.exercise_interaction\", \"data\": {\"interactionType\": 3, \"questionType\": 2, \"questionId\": \"4_ReviewsPerRegion\", \"learnToolsVersion\": \"0.3.4\", \"valueTowardsCompletion\": 0.0, \"failureMessage\": \"\", \"exceptionClass\": \"\", \"trace\": \"\", \"outcomeType\": 4}}, \"*\")"
      ],
      "text/plain": [
       "<IPython.core.display.Javascript object>"
      ]
     },
     "metadata": {},
     "output_type": "display_data"
    },
    {
     "data": {
      "text/markdown": [
       "<span style=\"color:#33cc99\">Solution:</span> \n",
       "```python\n",
       "reviews_per_region = reviews.region_1.fillna('Unknown').value_counts().sort_values(ascending=False)\n",
       "```"
      ],
      "text/plain": [
       "Solution: \n",
       "```python\n",
       "reviews_per_region = reviews.region_1.fillna('Unknown').value_counts().sort_values(ascending=False)\n",
       "```"
      ]
     },
     "metadata": {},
     "output_type": "display_data"
    }
   ],
   "source": [
    "#q4.hint()\n",
    "q4.solution()"
   ]
  },
  {
   "cell_type": "markdown",
   "id": "5017dec5",
   "metadata": {
    "papermill": {
     "duration": 0.005681,
     "end_time": "2022-06-14T09:15:22.142155",
     "exception": false,
     "start_time": "2022-06-14T09:15:22.136474",
     "status": "completed"
    },
    "tags": []
   },
   "source": [
    "# Keep going\n",
    "\n",
    "Move on to **[renaming and combining](https://www.kaggle.com/residentmario/renaming-and-combining)**."
   ]
  },
  {
   "cell_type": "markdown",
   "id": "0be45112",
   "metadata": {
    "papermill": {
     "duration": 0.005755,
     "end_time": "2022-06-14T09:15:22.153800",
     "exception": false,
     "start_time": "2022-06-14T09:15:22.148045",
     "status": "completed"
    },
    "tags": []
   },
   "source": [
    "---\n",
    "\n",
    "\n",
    "\n",
    "\n",
    "*Have questions or comments? Visit the [course discussion forum](https://www.kaggle.com/learn/pandas/discussion) to chat with other learners.*"
   ]
  }
 ],
 "metadata": {
  "kernelspec": {
   "display_name": "Python 3",
   "language": "python",
   "name": "python3"
  },
  "language_info": {
   "codemirror_mode": {
    "name": "ipython",
    "version": 3
   },
   "file_extension": ".py",
   "mimetype": "text/x-python",
   "name": "python",
   "nbconvert_exporter": "python",
   "pygments_lexer": "ipython3",
   "version": "3.7.12"
  },
  "papermill": {
   "default_parameters": {},
   "duration": 13.030975,
   "end_time": "2022-06-14T09:15:22.779949",
   "environment_variables": {},
   "exception": null,
   "input_path": "__notebook__.ipynb",
   "output_path": "__notebook__.ipynb",
   "parameters": {},
   "start_time": "2022-06-14T09:15:09.748974",
   "version": "2.3.4"
  }
 },
 "nbformat": 4,
 "nbformat_minor": 5
}
